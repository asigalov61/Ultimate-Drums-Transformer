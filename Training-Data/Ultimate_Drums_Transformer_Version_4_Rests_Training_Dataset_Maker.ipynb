{
  "cells": [
    {
      "cell_type": "markdown",
      "metadata": {
        "gradient": {
          "editing": false,
          "id": "ac5a4cf0-d9d2-47b5-9633-b53f8d99a4d2",
          "kernelId": ""
        },
        "id": "SiTIpPjArIyr"
      },
      "source": [
        "# Ultimate Drums Transformer Training Dataset Maker (ver. 4.0)\n",
        "\n",
        "***\n",
        "\n",
        "Powered by tegridy-tools: https://github.com/asigalov61/tegridy-tools\n",
        "\n",
        "***\n",
        "\n",
        "#### Project Los Angeles\n",
        "\n",
        "#### Tegridy Code 2024\n",
        "\n",
        "***"
      ]
    },
    {
      "cell_type": "markdown",
      "metadata": {
        "gradient": {
          "editing": false,
          "id": "fa0a611c-1803-42ae-bdf6-a49b5a4e781b",
          "kernelId": ""
        },
        "id": "gOd93yV0sGd2"
      },
      "source": [
        "# (SETUP ENVIRONMENT)"
      ]
    },
    {
      "cell_type": "code",
      "execution_count": null,
      "metadata": {
        "cellView": "form",
        "gradient": {
          "editing": false,
          "id": "a1a45a91-d909-4fd4-b67a-5e16b971d179",
          "kernelId": ""
        },
        "id": "fX12Yquyuihc",
        "scrolled": true
      },
      "outputs": [],
      "source": [
        "#@title Install all dependencies (run only once per session)\n",
        "\n",
        "!git clone --depth 1 https://github.com/asigalov61/tegridy-tools"
      ]
    },
    {
      "cell_type": "code",
      "execution_count": null,
      "metadata": {
        "cellView": "form",
        "gradient": {
          "editing": false,
          "id": "b8207b76-9514-4c07-95db-95a4742e52c5",
          "kernelId": ""
        },
        "id": "z7n9vnKmug1J",
        "scrolled": true
      },
      "outputs": [],
      "source": [
        "#@title Import all needed modules\n",
        "\n",
        "print('Loading core modules. Please wait...')\n",
        "\n",
        "import os\n",
        "import copy\n",
        "import math\n",
        "import statistics\n",
        "import random\n",
        "\n",
        "from joblib import Parallel, delayed, parallel_config\n",
        "\n",
        "from collections import Counter\n",
        "\n",
        "from tqdm import tqdm\n",
        "\n",
        "from google.colab import files\n",
        "\n",
        "print('Creating IO dirs...')\n",
        "\n",
        "if not os.path.exists('/content/Dataset'):\n",
        "  os.makedirs('/content/Dataset')\n",
        "\n",
        "if not os.path.exists('/content/INTS'):\n",
        "  os.makedirs('/content/INTS')\n",
        "\n",
        "print('Loading TMIDIX module...')\n",
        "os.chdir('/content/tegridy-tools/tegridy-tools')\n",
        "\n",
        "import TMIDIX\n",
        "\n",
        "print('Done!')\n",
        "\n",
        "os.chdir('/content/')\n",
        "print('Enjoy! :)')"
      ]
    },
    {
      "cell_type": "markdown",
      "source": [
        "# (DOWNLOAD MIDI DATASET)"
      ],
      "metadata": {
        "id": "GIaKRqIHYied"
      }
    },
    {
      "cell_type": "code",
      "source": [
        "# @title Download and untar LAKH clean_midi MIDI subset\n",
        "%cd /content/Dataset/\n",
        "!wget http://hog.ee.columbia.edu/craffel/lmd/clean_midi.tar.gz\n",
        "!tar -xvf clean_midi.tar.gz\n",
        "!rm clean_midi.tar.gz\n",
        "%cd /content/"
      ],
      "metadata": {
        "id": "CsDFx18o71l9",
        "cellView": "form"
      },
      "execution_count": null,
      "outputs": []
    },
    {
      "cell_type": "markdown",
      "metadata": {
        "id": "JwrqQeie08t0"
      },
      "source": [
        "# (FILE LIST)"
      ]
    },
    {
      "cell_type": "code",
      "execution_count": null,
      "metadata": {
        "cellView": "form",
        "id": "DuVWtdDNcqKh",
        "scrolled": true
      },
      "outputs": [],
      "source": [
        "#@title Save file list\n",
        "###########\n",
        "\n",
        "print('=' * 70)\n",
        "print('Loading MIDI files...')\n",
        "print('This may take a while on a large dataset in particular.')\n",
        "\n",
        "dataset_addr = \"/content/Dataset\"\n",
        "\n",
        "filez = list()\n",
        "for (dirpath, dirnames, filenames) in os.walk(dataset_addr):\n",
        "    for file in filenames:\n",
        "        if file.endswith(('.mid', '.midi', '.kar')):\n",
        "            filez.append(os.path.join(dirpath, file))\n",
        "print('=' * 70)\n",
        "\n",
        "if filez == []:\n",
        "    print('Could not find any MIDI files. Please check Dataset dir...')\n",
        "    print('=' * 70)\n",
        "\n",
        "else:\n",
        "  print('Randomizing file list...')\n",
        "  random.shuffle(filez)\n",
        "  print('=' * 70)\n",
        "\n",
        "  TMIDIX.Tegridy_Any_Pickle_File_Writer(filez, '/content/filez')\n",
        "  print('=' * 70)"
      ]
    },
    {
      "cell_type": "code",
      "execution_count": null,
      "metadata": {
        "cellView": "form",
        "id": "qI_adhjojrJ9",
        "scrolled": true
      },
      "outputs": [],
      "source": [
        "#@title Load file list\n",
        "\n",
        "print('=' * 70)\n",
        "filez = TMIDIX.Tegridy_Any_Pickle_File_Reader('/content/filez')\n",
        "print('Done!')\n",
        "print('=' * 70)"
      ]
    },
    {
      "cell_type": "markdown",
      "metadata": {
        "id": "FLxHvO-wlwfU"
      },
      "source": [
        "# (PROCESS)"
      ]
    },
    {
      "cell_type": "code",
      "execution_count": null,
      "metadata": {
        "id": "NOMrDxSm7Iz8",
        "cellView": "form"
      },
      "outputs": [],
      "source": [
        "# @title Load TMIDIX MIDI Processor\n",
        "\n",
        "print('=' * 70)\n",
        "print('Loading TMIDIX MIDI Processor...')\n",
        "\n",
        "def TMIDIX_MIDI_Processor(midi_file):\n",
        "\n",
        "    try:\n",
        "\n",
        "        fn = os.path.basename(midi_file)\n",
        "\n",
        "        #=======================================================\n",
        "        # START PROCESSING\n",
        "\n",
        "        #===============================================================================\n",
        "        # Raw single-track ms score\n",
        "\n",
        "        raw_score = TMIDIX.midi2single_track_ms_score(midi_file)\n",
        "\n",
        "        #===============================================================================\n",
        "        # Enhanced score notes\n",
        "\n",
        "        escore_notes = TMIDIX.advanced_score_processor(raw_score, return_enhanced_score_notes=True)[0]\n",
        "\n",
        "        # checking number of instruments in a composition\n",
        "        instruments_list = list(set([y[3] for y in escore_notes]))\n",
        "\n",
        "        if len(escore_notes) > 0 and (9 in instruments_list):\n",
        "\n",
        "            #=======================================================\n",
        "            # PRE-PROCESSING\n",
        "\n",
        "            #===============================================================================\n",
        "            # Augmented enhanced score notes\n",
        "\n",
        "            escore_notes = TMIDIX.augment_enhanced_score_notes(escore_notes, timings_divider=32)\n",
        "\n",
        "            #===============================================================================\n",
        "            # Chordified score\n",
        "            dcscore = TMIDIX.chordify_score([1000, escore_notes])\n",
        "\n",
        "            #===============================================================================\n",
        "\n",
        "            dt_score_notes_vel = []\n",
        "\n",
        "            npe = dcscore[0]\n",
        "            npe.sort(key=lambda x: x[4])\n",
        "\n",
        "            pe = 0\n",
        "\n",
        "            ntime = 0\n",
        "            pabs_time = 0\n",
        "\n",
        "            abs_time = 0\n",
        "\n",
        "            drums = False\n",
        "\n",
        "            for i, d in enumerate(dcscore[:-1]):\n",
        "              d.sort(key=lambda x: x[4])\n",
        "              dchans = sorted(set([x[3] for x in d]))\n",
        "\n",
        "              nd = dcscore[i+1]\n",
        "              chans = sorted(set([x[3] for x in nd]))\n",
        "\n",
        "              time = nd[0][1] - npe[0][1]\n",
        "\n",
        "              dtime = max(0, min(127, time))\n",
        "\n",
        "              pabs_time = abs_time\n",
        "\n",
        "              abs_time += dtime\n",
        "\n",
        "              npe = nd\n",
        "\n",
        "              ndtime = max(0, min(127, (abs_time - ntime)))\n",
        "\n",
        "              if 9 in dchans and len(dchans) > 1:\n",
        "                    drums = True\n",
        "\n",
        "              if drums:\n",
        "                if chans != [9]:\n",
        "                  dt_score_notes_vel.extend([ndtime])\n",
        "\n",
        "                  ntime = abs_time\n",
        "\n",
        "                  pe = pabs_time\n",
        "\n",
        "              if 9 in dchans:\n",
        "\n",
        "                  for e in d:\n",
        "\n",
        "                    cha = e[3]\n",
        "\n",
        "                    if cha == 9:\n",
        "\n",
        "                      cdtime = pabs_time - pe\n",
        "\n",
        "                      cdtime = max(0, min(127, int(cdtime)))\n",
        "\n",
        "                      ptc = max(1, min(127, e[4]))\n",
        "\n",
        "                      velocity = max(8, min(127, e[5]))\n",
        "                      vel = round(velocity / 15)\n",
        "\n",
        "                      if (abs_time - ntime) < 128:\n",
        "                        if cdtime != 0:\n",
        "                          dt_score_notes_vel.extend([cdtime+128, ptc+256, vel+384])\n",
        "                        else:\n",
        "                          dt_score_notes_vel.extend([ptc+256, vel+384])\n",
        "\n",
        "                      pe = pabs_time\n",
        "\n",
        "              if 9 not in dchans and drums:\n",
        "                  dt_score_notes_vel.extend([0+256, 0+384])\n",
        "\n",
        "              if len(dt_score_notes_vel) > 8192:\n",
        "                break\n",
        "\n",
        "            #===============================================================================\n",
        "\n",
        "            dt_score_notes_vel = dt_score_notes_vel[:8193]\n",
        "\n",
        "            if dt_score_notes_vel:\n",
        "              return dt_score_notes_vel\n",
        "\n",
        "            else:\n",
        "              return None\n",
        "\n",
        "        else:\n",
        "          return None\n",
        "\n",
        "    except Exception as e:\n",
        "        print('=' * 70)\n",
        "        print('ERROR!!!')\n",
        "        print('File name:', midi_file)\n",
        "        print('Error:', e)\n",
        "        print('=' * 70)\n",
        "        return None\n",
        "\n",
        "print('Done!')\n",
        "print('=' * 70)"
      ]
    },
    {
      "cell_type": "code",
      "execution_count": null,
      "metadata": {
        "scrolled": true,
        "cellView": "form",
        "id": "_ia0G3sy7Iz9"
      },
      "outputs": [],
      "source": [
        "#@title Process MIDIs with TMIDIX MIDI processor\n",
        "\n",
        "NUMBER_OF_PARALLEL_JOBS = 16 # Number of parallel jobs\n",
        "NUMBER_OF_FILES_PER_ITERATION = 16 # Number of files to queue for each parallel iteration\n",
        "SAVE_EVERY_NUMBER_OF_ITERATIONS = 160 # Save every 2560 files\n",
        "\n",
        "print('=' * 70)\n",
        "print('TMIDIX MIDI Processor')\n",
        "print('=' * 70)\n",
        "print('Starting up...')\n",
        "print('=' * 70)\n",
        "\n",
        "###########\n",
        "\n",
        "melody_chords_f = []\n",
        "\n",
        "files_count = 0\n",
        "good_files_count = 0\n",
        "\n",
        "print('Processing MIDI files. Please wait...')\n",
        "print('=' * 70)\n",
        "\n",
        "for i in tqdm(range(0, len(filez), NUMBER_OF_FILES_PER_ITERATION)):\n",
        "\n",
        "  with parallel_config(backend='threading', n_jobs=NUMBER_OF_PARALLEL_JOBS, verbose = 0):\n",
        "    output = Parallel(n_jobs=NUMBER_OF_PARALLEL_JOBS, verbose=0)(delayed(TMIDIX_MIDI_Processor)(f) for f in filez[i:i+NUMBER_OF_FILES_PER_ITERATION])\n",
        "\n",
        "  for o in output:\n",
        "\n",
        "      if o is not None:\n",
        "          melody_chords_f.append(o)\n",
        "\n",
        "  # Saving every 2560 processed files\n",
        "  if i % (SAVE_EVERY_NUMBER_OF_ITERATIONS * NUMBER_OF_FILES_PER_ITERATION) == 0 and i != 0:\n",
        "      print('SAVING !!!')\n",
        "      print('=' * 70)\n",
        "      good_files_count += len(melody_chords_f)\n",
        "      print('Saving processed files...')\n",
        "      print('=' * 70)\n",
        "      print('Data check:', min(melody_chords_f[0]), '===', max(melody_chords_f[0]), '===', len(list(set(melody_chords_f[0]))), '===', len(melody_chords_f[0]))\n",
        "      print('=' * 70)\n",
        "      print('Processed so far:', good_files_count, 'out of', i, '===', good_files_count / i, 'good files ratio')\n",
        "      print('=' * 70)\n",
        "      count = str(i)\n",
        "      TMIDIX.Tegridy_Any_Pickle_File_Writer(melody_chords_f, '/content/INTS/UDT_INTs_'+count)\n",
        "      melody_chords_f = []\n",
        "      print('=' * 70)\n",
        "\n",
        "print('SAVING !!!')\n",
        "print('=' * 70)\n",
        "good_files_count += len(melody_chords_f)\n",
        "print('Saving processed files...')\n",
        "print('=' * 70)\n",
        "print('Data check:', min(melody_chords_f[0]), '===', max(melody_chords_f[0]), '===', len(list(set(melody_chords_f[0]))), '===', len(melody_chords_f[0]))\n",
        "print('=' * 70)\n",
        "print('Processed so far:', good_files_count, 'out of', i, '===', good_files_count / i, 'good files ratio')\n",
        "print('=' * 70)\n",
        "count = str(i)\n",
        "TMIDIX.Tegridy_Any_Pickle_File_Writer(melody_chords_f, '/content/INTS/UDT_INTs_'+count)\n",
        "print('=' * 70)"
      ]
    },
    {
      "cell_type": "markdown",
      "metadata": {
        "id": "-ye9rNzOHX90"
      },
      "source": [
        "# (TEST INTS)"
      ]
    },
    {
      "cell_type": "code",
      "execution_count": null,
      "metadata": {
        "scrolled": false,
        "id": "pNXByX_S7Iz-",
        "cellView": "form"
      },
      "outputs": [],
      "source": [
        "#@title Test training INTs\n",
        "\n",
        "train_data1 = random.choice(melody_chords_f)\n",
        "\n",
        "print('=' * 70)\n",
        "print('Seq len:', len(train_data1))\n",
        "print('Sample INTs', train_data1[:15])\n",
        "print('=' * 70)\n",
        "\n",
        "out = train_data1\n",
        "\n",
        "if len(out) != 0:\n",
        "\n",
        "    song = out\n",
        "    song_f = []\n",
        "\n",
        "    time = 0\n",
        "    dtime = 0\n",
        "    ptime = 0\n",
        "    dur = 32\n",
        "    vel = 90\n",
        "    pitch = 0\n",
        "    channel = 0\n",
        "\n",
        "    for ss in song:\n",
        "\n",
        "        if 0 < ss < 128:\n",
        "\n",
        "            dtime = ptime = time\n",
        "\n",
        "            time += ss * 32\n",
        "\n",
        "            song_f.append(['note', ptime, dur, 0, 60, 70, 0])\n",
        "\n",
        "        if 128 <= ss < 256:\n",
        "\n",
        "            dtime += (ss-128) * 32\n",
        "\n",
        "        if 256 <= ss < 384:\n",
        "\n",
        "            pitch = (ss-256)\n",
        "\n",
        "        if 384 < ss < 393:\n",
        "\n",
        "            vel = (ss-384) * 15\n",
        "\n",
        "            song_f.append(['note', dtime, dur, 9, pitch, vel, 128])\n",
        "\n",
        "detailed_stats = TMIDIX.Tegridy_ms_SONG_to_MIDI_Converter(song_f,\n",
        "                                                        output_signature = 'Ultimate Drums Transformer',\n",
        "                                                        output_file_name = '/content/Ultimate-Drums-Transformer-Composition',\n",
        "                                                        track_name='Project Los Angeles'\n",
        "                                                        )\n",
        "print('=' * 70)"
      ]
    },
    {
      "cell_type": "markdown",
      "source": [
        "# (ZIP AND DOWNLOAD INTS)"
      ],
      "metadata": {
        "id": "Ooe7lcOZbpz1"
      }
    },
    {
      "cell_type": "code",
      "source": [
        "#@title Zip and download training INTs\n",
        "\n",
        "print('=' * 70)\n",
        "\n",
        "try:\n",
        "    os.remove('Ultimate_Drums_Transformer_INTs.zip')\n",
        "except OSError:\n",
        "    pass\n",
        "\n",
        "print('Zipping... Please wait...')\n",
        "print('=' * 70)\n",
        "\n",
        "%cd /content/INTS/\n",
        "!zip Ultimate_Drums_Transformer_INTs.zip *.pickle\n",
        "%cd /content/\n",
        "\n",
        "print('=' * 70)\n",
        "print('Done!')\n",
        "print('=' * 70)\n",
        "\n",
        "print('Downloading final zip file...')\n",
        "print('=' * 70)\n",
        "\n",
        "files.download('/content/INTS/Ultimate_Drums_Transformer_INTs.zip')\n",
        "\n",
        "print('Done!')\n",
        "print('=' * 70)"
      ],
      "metadata": {
        "id": "f2Ric8In9ju0",
        "cellView": "form"
      },
      "execution_count": null,
      "outputs": []
    },
    {
      "cell_type": "markdown",
      "metadata": {
        "id": "YzCMd94Tu_gz"
      },
      "source": [
        "# Congrats! You did it! :)"
      ]
    }
  ],
  "metadata": {
    "colab": {
      "private_outputs": true,
      "provenance": []
    },
    "kernelspec": {
      "display_name": "Python 3",
      "name": "python3"
    },
    "language_info": {
      "codemirror_mode": {
        "name": "ipython",
        "version": 3
      },
      "file_extension": ".py",
      "mimetype": "text/x-python",
      "name": "python",
      "nbconvert_exporter": "python",
      "pygments_lexer": "ipython3",
      "version": "3.9.7"
    }
  },
  "nbformat": 4,
  "nbformat_minor": 0
}